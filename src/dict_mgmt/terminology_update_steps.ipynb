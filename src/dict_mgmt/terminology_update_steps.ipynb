{
 "cells": [
  {
   "cell_type": "markdown",
   "metadata": {},
   "source": [
    "The following details out the steps taken to update the `dict.txt` file per case [Update dict.txt - remove xylazine terms](https://github.com/suzytamang/clever-rockies/issues/19).\n",
    "\n",
    "This will treat each modification as a separate and distinct series of actions (deletes), which will be used in turn to inform case [Support Feature: Renumbering and Validation Script](https://github.com/suzytamang/clever-rockies/issues/22)."
   ]
  },
  {
   "cell_type": "code",
   "execution_count": null,
   "metadata": {},
   "outputs": [],
   "source": [
    "# dataclass to hold terminology entry\n",
    "\n",
    "from dataclasses import dataclass\n",
    "from typing import Any, Callable\n",
    "\n",
    "\n",
    "@dataclass\n",
    "class Term:\n",
    "    id: int\n",
    "    term: str\n",
    "    subclass_name: str\n",
    "    class_name: str"
   ]
  },
  {
   "cell_type": "code",
   "execution_count": null,
   "metadata": {},
   "outputs": [],
   "source": [
    "# Need to load existing copy of dict.txt\n",
    "import pandas as pd\n",
    "\n",
    "ID_LABEL = \"id\"\n",
    "TERM_LABEL = \"term\"\n",
    "SUBCLASS_LABEL = \"subclass_name\"\n",
    "CLASS_LABEL = \"class_name\"\n",
    "\n",
    "TERMINOLOGY_PATH = r\"D:\\DaxWorkspace\\PERC\\clever-rockies\\res\\dicts\\dict.txt\"\n",
    "\n",
    "terminology_df: pd.DataFrame = pd.read_csv(\n",
    "    TERMINOLOGY_PATH,\n",
    "    delimiter=\"|\",\n",
    "    names=[ID_LABEL, TERM_LABEL, SUBCLASS_LABEL, CLASS_LABEL],\n",
    ")\n",
    "\n",
    "terminology_df.head(10)"
   ]
  },
  {
   "cell_type": "code",
   "execution_count": null,
   "metadata": {},
   "outputs": [],
   "source": [
    "# pre-check validations\n",
    "# - Does the term in question exist?\n",
    "# - Are there any validation errors in the terminology?\n",
    "\n",
    "\n",
    "class TermValidator:\n",
    "\n",
    "    def __init__(self, *rules: Callable[[Term], bool]) -> None:\n",
    "        rules = list(rules)\n",
    "        # if no rules provided, then default to asserting term is valid\n",
    "        if len(rules) == 0:\n",
    "            rules.append(lambda x: True)\n",
    "        self._rules = rules\n",
    "\n",
    "    def __call__(self, term: Term) -> bool:\n",
    "        return all(is_valid(term) for is_valid in self._rules)\n",
    "\n",
    "\n",
    "class TerminologyValidator:\n",
    "\n",
    "    def __init__(\n",
    "        self, terms_df: pd.DataFrame, term_validator: TermValidator\n",
    "    ) -> None:\n",
    "        self._term_validator: TermValidator = term_validator\n",
    "        self._terms_df: pd.DataFrame = terms_df\n",
    "\n",
    "    def __call__(self) -> bool:\n",
    "        self._terms_df[\"is_valid_term\"] = self._terms_df.apply(\n",
    "            lambda term: self._term_validator(term), axis=0\n",
    "        )\n",
    "        self.check_for_duplicate_ids()\n",
    "        self.check_for_duplicate_terms()\n",
    "        \n",
    "    @property\n",
    "    def invalid_entries(self):\n",
    "        pass\n",
    "\n",
    "    def check_for_duplicate_ids(self) -> bool:\n",
    "        duplicate_mask: pd.Series = self._terms_df[ID_LABEL].duplicated()\n",
    "        find duplicates and note references\n",
    "        self._terms_df[''] = self._terms_df[duplicate_mask]\n",
    "            \n",
    "        return duplicate_mask\n",
    "\n",
    "    def check_for_duplicate_terms(self) -> bool:\n",
    "        duplicate_mask: pd.Series = self._terms_df[TERM_LABEL].duplicated()\n",
    "        return duplicate_mask\n",
    "\n",
    "    def does_term_exist(self, term: Term) -> bool:\n",
    "        term_count = len(\n",
    "            self._terms_df[self._terms_df[TERM_LABEL] == term.term]\n",
    "        )\n",
    "        if term_count > 1:\n",
    "            raise Exception(\"More than one instance of term found: %s\", term)\n",
    "        return term_count == 1"
   ]
  },
  {
   "cell_type": "code",
   "execution_count": null,
   "metadata": {},
   "outputs": [],
   "source": [
    "terminology_validator: TerminologyValidator = TerminologyValidator(\n",
    "    terminology_df, TermValidator()\n",
    ")\n",
    "\n",
    "if terminology_validator() is False:\n",
    "    terminology_validator.invalid_entries"
   ]
  }
 ],
 "metadata": {
  "kernelspec": {
   "display_name": ".venv",
   "language": "python",
   "name": "python3"
  },
  "language_info": {
   "codemirror_mode": {
    "name": "ipython",
    "version": 3
   },
   "file_extension": ".py",
   "mimetype": "text/x-python",
   "name": "python",
   "nbconvert_exporter": "python",
   "pygments_lexer": "ipython3",
   "version": "3.11.5"
  }
 },
 "nbformat": 4,
 "nbformat_minor": 2
}
