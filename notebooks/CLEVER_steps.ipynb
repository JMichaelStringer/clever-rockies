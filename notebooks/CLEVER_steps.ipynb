{
  "cells": [
    {
      "cell_type": "markdown",
      "source": [
        "### Purpose of notebook:\n",
        "\n",
        "The purpose of this notebook is to automate the process of running the clever steps. Instead of manually having to run each clever step, you can run the cell blocks below.\n",
        "\n",
        "**Make sure you have the output directory created beforehand**"
      ],
      "metadata": {
        "nteract": {
          "transient": {
            "deleting": false
          }
        }
      }
    },
    {
      "cell_type": "code",
      "source": [
        "# Delete all subfolders from within the output directory. This is needed so that each run can start from a clean state.abs\n",
        "import os\n",
        "import shutil\n",
        "\n",
        "OUTPUT_DIRECTORY = '../output202210'\n",
        "\n",
        "for item in os.listdir(OUTPUT_DIRECTORY):\n",
        "    item_path = os.path.join(OUTPUT_DIRECTORY, item)\n",
        "    if os.path.isdir(item_path):\n",
        "        shutil.rmtree(item_path)\n"
      ],
      "outputs": [],
      "execution_count": null,
      "metadata": {
        "jupyter": {
          "source_hidden": false,
          "outputs_hidden": false
        },
        "nteract": {
          "transient": {
            "deleting": false
          }
        },
        "gather": {
          "logged": 1703016902702
        }
      }
    },
    {
      "cell_type": "code",
      "source": [
        "# Step 2\n",
        "%time\n",
        "!bash ../src/step2/step2.sh"
      ],
      "outputs": [],
      "execution_count": null,
      "metadata": {
        "jupyter": {
          "source_hidden": false,
          "outputs_hidden": false
        },
        "nteract": {
          "transient": {
            "deleting": false
          }
        },
        "gather": {
          "logged": 1703016964553
        },
        "editable": true,
        "run_control": {
          "frozen": false
        }
      }
    },
    {
      "cell_type": "code",
      "source": [
        "# Step 3\n",
        "!bash ../src/step3/step3.sh"
      ],
      "outputs": [],
      "execution_count": null,
      "metadata": {
        "jupyter": {
          "source_hidden": false,
          "outputs_hidden": false
        },
        "nteract": {
          "transient": {
            "deleting": false
          }
        },
        "gather": {
          "logged": 1703017059186
        }
      }
    },
    {
      "cell_type": "code",
      "source": [
        "# Step 4\n",
        "!bash ../src/step4/step4.sh"
      ],
      "outputs": [],
      "execution_count": null,
      "metadata": {
        "jupyter": {
          "source_hidden": false,
          "outputs_hidden": false
        },
        "nteract": {
          "transient": {
            "deleting": false
          }
        },
        "gather": {
          "logged": 1703017236195
        }
      }
    },
    {
      "cell_type": "code",
      "source": [
        "# Step 5\n",
        "!bash ../src/step5/step5.sh"
      ],
      "outputs": [],
      "execution_count": null,
      "metadata": {
        "jupyter": {
          "source_hidden": false,
          "outputs_hidden": false
        },
        "nteract": {
          "transient": {
            "deleting": false
          }
        },
        "gather": {
          "logged": 1703017260601
        }
      }
    },
    {
      "cell_type": "code",
      "source": [],
      "outputs": [],
      "execution_count": null,
      "metadata": {
        "jupyter": {
          "source_hidden": false,
          "outputs_hidden": false
        },
        "nteract": {
          "transient": {
            "deleting": false
          }
        }
      }
    }
  ],
  "metadata": {
    "kernelspec": {
      "name": "python310-sdkv2",
      "language": "python",
      "display_name": "Python 3.10 - SDK v2"
    },
    "language_info": {
      "name": "python",
      "version": "3.10.10",
      "mimetype": "text/x-python",
      "codemirror_mode": {
        "name": "ipython",
        "version": 3
      },
      "pygments_lexer": "ipython3",
      "nbconvert_exporter": "python",
      "file_extension": ".py"
    },
    "microsoft": {
      "ms_spell_check": {
        "ms_spell_check_language": "en"
      },
      "host": {
        "AzureML": {
          "notebookHasBeenCompleted": true
        }
      }
    },
    "kernel_info": {
      "name": "python310-sdkv2"
    },
    "nteract": {
      "version": "nteract-front-end@1.0.0"
    }
  },
  "nbformat": 4,
  "nbformat_minor": 2
}