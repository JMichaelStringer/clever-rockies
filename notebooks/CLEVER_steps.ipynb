{
  "cells": [
    {
      "cell_type": "markdown",
      "source": [
        "### Purpose of notebook:\n",
        "\n",
        "The purpose of this notebook is to automate the process of running the clever steps. Instead of manually having to run each clever step, you can run the cell blocks below.\n",
        "\n",
        "**Make sure you have the output directory created beforehand**"
      ],
      "metadata": {
        "nteract": {
          "transient": {
            "deleting": false
          }
        }
      }
    },
    {
      "cell_type": "code",
      "source": [
        "# Delete all subfolders from within the output directory. This is needed so that each run can start from a clean state.abs\n",
        "import os\n",
        "import shutil\n",
        "\n",
        "OUTPUT_DIRECTORY = '../output202210'\n",
        "\n",
        "for item in os.listdir(OUTPUT_DIRECTORY):\n",
        "    item_path = os.path.join(OUTPUT_DIRECTORY, item)\n",
        "    if os.path.isdir(item_path):\n",
        "        shutil.rmtree(item_path)\n"
      ],
      "outputs": [],
      "execution_count": 4,
      "metadata": {
        "jupyter": {
          "source_hidden": false,
          "outputs_hidden": false
        },
        "nteract": {
          "transient": {
            "deleting": false
          }
        },
        "gather": {
          "logged": 1724998328308
        }
      }
    },
    {
      "cell_type": "code",
      "source": [
        "# Step 2\n",
        "%time\n",
        "!bash ../src/step2/step2.sh"
      ],
      "outputs": [
        {
          "output_type": "stream",
          "name": "stdout",
          "text": "CPU times: user 3 µs, sys: 0 ns, total: 3 µs\nWall time: 8.11 µs\n"
        }
      ],
      "execution_count": 5,
      "metadata": {
        "jupyter": {
          "source_hidden": false,
          "outputs_hidden": false
        },
        "nteract": {
          "transient": {
            "deleting": false
          }
        },
        "gather": {
          "logged": 1724998345879
        },
        "editable": true,
        "run_control": {
          "frozen": false
        }
      }
    },
    {
      "cell_type": "code",
      "source": [
        "# Step 3\n",
        "!bash ../src/step3/step3.sh"
      ],
      "outputs": [
        {
          "output_type": "stream",
          "name": "stdout",
          "text": "Total notes:  343079\nNOTES: 343079\nLOADING FILE:  ../../output202210/XYLA/extraction-12047.tsv\nLOADING FILE:  ../../output202210/XYLA/extraction-12048.tsv\nLOADING FILE:  ../../output202210/XYLA/extraction-12049.tsv\nLOADING FILE:  ../../output202210/XYLA/extraction-12050.tsv\nLOADING FILE:  ../../output202210/XYLA/extraction-12051.tsv\nLOADING FILE:  ../../output202210/XYLA/extraction-12052.tsv\nLOADING FILE:  ../../output202210/XYLA/extraction-12053.tsv\nLOADING FILE:  ../../output202210/XYLA/extraction-12054.tsv\n0 total annotation for target terms\nLength of Sequence Dictionary: 0\nCANDIDATE EVENTS: 0\nTotal notes:  343079\nNOTES: 343079\nLOADING FILE:  ../../output202210/DODOUD/extraction-12088.tsv\nLOADING FILE:  ../../output202210/DODOUD/extraction-12089.tsv\nLOADING FILE:  ../../output202210/DODOUD/extraction-12090.tsv\nLOADING FILE:  ../../output202210/DODOUD/extraction-12091.tsv\nLOADING FILE:  ../../output202210/DODOUD/extraction-12092.tsv\nLOADING FILE:  ../../output202210/DODOUD/extraction-12093.tsv\nLOADING FILE:  ../../output202210/DODOUD/extraction-12094.tsv\nLOADING FILE:  ../../output202210/DODOUD/extraction-12095.tsv\n0 total annotation for target terms\nLength of Sequence Dictionary: 0\nCANDIDATE EVENTS: 0\n"
        }
      ],
      "execution_count": 7,
      "metadata": {
        "jupyter": {
          "source_hidden": false,
          "outputs_hidden": false
        },
        "nteract": {
          "transient": {
            "deleting": false
          }
        },
        "gather": {
          "logged": 1724998481984
        }
      }
    },
    {
      "cell_type": "code",
      "source": [
        "# Step 4\n",
        "!bash ../src/step4/step4.sh"
      ],
      "outputs": [
        {
          "output_type": "stream",
          "name": "stdout",
          "text": "Processing: ../../output202210/XYLA/linkedAnts.txt\nWROTE POS NEG NA FILES\nProcessing: ../../output202210/DODOUD/linkedAnts.txt\nWROTE POS NEG NA FILES\n"
        }
      ],
      "execution_count": 8,
      "metadata": {
        "jupyter": {
          "source_hidden": false,
          "outputs_hidden": false
        },
        "nteract": {
          "transient": {
            "deleting": false
          }
        },
        "gather": {
          "logged": 1724998496143
        }
      }
    },
    {
      "cell_type": "code",
      "source": [
        "# Step 5\n",
        "!bash ../src/step5/step5.sh"
      ],
      "outputs": [
        {
          "output_type": "stream",
          "name": "stdout",
          "text": "Filtering tagged templated text for XYLA\nFiltering tagged templated text for DODOUD\n"
        }
      ],
      "execution_count": 9,
      "metadata": {
        "jupyter": {
          "source_hidden": false,
          "outputs_hidden": false
        },
        "nteract": {
          "transient": {
            "deleting": false
          }
        },
        "gather": {
          "logged": 1724998502517
        }
      }
    },
    {
      "cell_type": "code",
      "source": [],
      "outputs": [],
      "execution_count": null,
      "metadata": {
        "jupyter": {
          "source_hidden": false,
          "outputs_hidden": false
        },
        "nteract": {
          "transient": {
            "deleting": false
          }
        }
      }
    }
  ],
  "metadata": {
    "kernelspec": {
      "name": "python310-sdkv2",
      "language": "python",
      "display_name": "Python 3.10 - SDK v2"
    },
    "language_info": {
      "name": "python",
      "version": "3.10.11",
      "mimetype": "text/x-python",
      "codemirror_mode": {
        "name": "ipython",
        "version": 3
      },
      "pygments_lexer": "ipython3",
      "nbconvert_exporter": "python",
      "file_extension": ".py"
    },
    "microsoft": {
      "ms_spell_check": {
        "ms_spell_check_language": "en"
      },
      "host": {
        "AzureML": {
          "notebookHasBeenCompleted": true
        }
      }
    },
    "kernel_info": {
      "name": "python310-sdkv2"
    },
    "nteract": {
      "version": "nteract-front-end@1.0.0"
    }
  },
  "nbformat": 4,
  "nbformat_minor": 2
}