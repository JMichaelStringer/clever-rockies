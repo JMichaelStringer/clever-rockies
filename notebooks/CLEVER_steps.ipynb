{
  "cells": [
    {
      "cell_type": "markdown",
      "source": [
        "### Purpose of notebook:\n",
        "\n",
        "The purpose of this notebook is to automate the process of running the clever steps. Instead of manually having to run each clever step, you can run the cell blocks below.\n",
        "\n",
        "**Make sure you have the output directory created beforehand**"
      ],
      "metadata": {
        "nteract": {
          "transient": {
            "deleting": false
          }
        }
      }
    },
    {
      "cell_type": "code",
      "source": [
        "# Delete all subfolders from within the output directory. This is needed so that each run can start from a clean state.abs\n",
        "import os\n",
        "import shutil\n",
        "\n",
        "OUTPUT_DIRECTORY = '../output202408'\n",
        "\n",
        "for item in os.listdir(OUTPUT_DIRECTORY):\n",
        "    item_path = os.path.join(OUTPUT_DIRECTORY, item)\n",
        "    if os.path.isdir(item_path):\n",
        "        shutil.rmtree(item_path)\n"
      ],
      "outputs": [],
      "execution_count": 6,
      "metadata": {
        "jupyter": {
          "source_hidden": false,
          "outputs_hidden": false
        },
        "nteract": {
          "transient": {
            "deleting": false
          }
        },
        "gather": {
          "logged": 1724887479932
        }
      }
    },
    {
      "cell_type": "code",
      "source": [
        "# Step 2\n",
        "%time\n",
        "!bash ../src/step2/step2.sh"
      ],
      "outputs": [
        {
          "output_type": "stream",
          "name": "stdout",
          "text": "CPU times: user 5 µs, sys: 1 µs, total: 6 µs\nWall time: 11 µs\nMain targets not found - exitingMain targets not found - exitingMain targets not found - exiting"
        }
      ],
      "execution_count": 7,
      "metadata": {
        "jupyter": {
          "source_hidden": false,
          "outputs_hidden": false
        },
        "nteract": {
          "transient": {
            "deleting": false
          }
        },
        "gather": {
          "logged": 1724887521969
        },
        "editable": true,
        "run_control": {
          "frozen": false
        }
      }
    },
    {
      "cell_type": "code",
      "source": [
        "# Step 3\n",
        "!bash ../src/step3/step3.sh"
      ],
      "outputs": [
        {
          "output_type": "stream",
          "name": "stdout",
          "text": "Total notes:  1\nNOTES: 1\nLOADING FILE:  ../../output202408/XYLA/extraction-12998.tsv\nLOADING FILE:  ../../output202408/XYLA/extraction-12999.tsv\nLOADING FILE:  ../../output202408/XYLA/extraction-13000.tsv\nLOADING FILE:  ../../output202408/XYLA/extraction-13001.tsv\nLOADING FILE:  ../../output202408/XYLA/extraction-13002.tsv\nLOADING FILE:  ../../output202408/XYLA/extraction-13003.tsv\nLOADING FILE:  ../../output202408/XYLA/extraction-13004.tsv\nLOADING FILE:  ../../output202408/XYLA/extraction-13005.tsv\n0 total annotation for target terms\nLength of Sequence Dictionary: 0\nCANDIDATE EVENTS: 0\nTotal notes:  1\nNOTES: 1\n0 total annotation for target terms\nLength of Sequence Dictionary: 0\nCANDIDATE EVENTS: 0\nTotal notes:  1\nNOTES: 1\nLOADING FILE:  ../../output202408/PDMP/extraction-13023.tsv\nLOADING FILE:  ../../output202408/PDMP/extraction-13024.tsv\nLOADING FILE:  ../../output202408/PDMP/extraction-13025.tsv\nLOADING FILE:  ../../output202408/PDMP/extraction-13026.tsv\nLOADING FILE:  ../../output202408/PDMP/extraction-13027.tsv\nLOADING FILE:  ../../output202408/PDMP/extraction-13028.tsv\nLOADING FILE:  ../../output202408/PDMP/extraction-13029.tsv\nLOADING FILE:  ../../output202408/PDMP/extraction-13030.tsv\n0 total annotation for target terms\nLength of Sequence Dictionary: 0\nCANDIDATE EVENTS: 0\nTotal notes:  1\nNOTES: 1\n0 total annotation for target terms\nLength of Sequence Dictionary: 0\nCANDIDATE EVENTS: 0\nTotal notes:  1\nNOTES: 1\nLOADING FILE:  ../../output202408/BTRAITS/extraction-13042.tsv\nLOADING FILE:  ../../output202408/BTRAITS/extraction-13043.tsv\nLOADING FILE:  ../../output202408/BTRAITS/extraction-13044.tsv\nLOADING FILE:  ../../output202408/BTRAITS/extraction-13045.tsv\nLOADING FILE:  ../../output202408/BTRAITS/extraction-13046.tsv\nLOADING FILE:  ../../output202408/BTRAITS/extraction-13047.tsv\nLOADING FILE:  ../../output202408/BTRAITS/extraction-13048.tsv\nLOADING FILE:  ../../output202408/BTRAITS/extraction-13049.tsv\n0 total annotation for target terms\nLength of Sequence Dictionary: 0\nCANDIDATE EVENTS: 0\nTotal notes:  1\nNOTES: 1\nLOADING FILE:  ../../output202408/BDD/extraction-13061.tsv\nLOADING FILE:  ../../output202408/BDD/extraction-13062.tsv\nLOADING FILE:  ../../output202408/BDD/extraction-13063.tsv\nLOADING FILE:  ../../output202408/BDD/extraction-13064.tsv\nLOADING FILE:  ../../output202408/BDD/extraction-13065.tsv\nLOADING FILE:  ../../output202408/BDD/extraction-13066.tsv\nLOADING FILE:  ../../output202408/BDD/extraction-13067.tsv\nLOADING FILE:  ../../output202408/BDD/extraction-13068.tsv\n0 total annotation for target terms\nLength of Sequence Dictionary: 0\nCANDIDATE EVENTS: 0\nTotal notes:  1\nNOTES: 1\nLOADING FILE:  ../../output202408/GAMINGDO/extraction-13074.tsv\nLOADING FILE:  ../../output202408/GAMINGDO/extraction-13075.tsv\nLOADING FILE:  ../../output202408/GAMINGDO/extraction-13076.tsv\nLOADING FILE:  ../../output202408/GAMINGDO/extraction-13077.tsv\nLOADING FILE:  ../../output202408/GAMINGDO/extraction-13078.tsv\nLOADING FILE:  ../../output202408/GAMINGDO/extraction-13079.tsv\nLOADING FILE:  ../../output202408/GAMINGDO/extraction-13080.tsv\nLOADING FILE:  ../../output202408/GAMINGDO/extraction-13081.tsv\n0 total annotation for target terms\nLength of Sequence Dictionary: 0\nCANDIDATE EVENTS: 0\nTotal notes:  1\nNOTES: 1\nLOADING FILE:  ../../output202408/GAMBLINGDO/extraction-13106.tsv\nLOADING FILE:  ../../output202408/GAMBLINGDO/extraction-13107.tsv\nLOADING FILE:  ../../output202408/GAMBLINGDO/extraction-13108.tsv\nLOADING FILE:  ../../output202408/GAMBLINGDO/extraction-13109.tsv\nLOADING FILE:  ../../output202408/GAMBLINGDO/extraction-13110.tsv\nLOADING FILE:  ../../output202408/GAMBLINGDO/extraction-13111.tsv\nLOADING FILE:  ../../output202408/GAMBLINGDO/extraction-13112.tsv\nLOADING FILE:  ../../output202408/GAMBLINGDO/extraction-13113.tsv\n0 total annotation for target terms\nLength of Sequence Dictionary: 0\nCANDIDATE EVENTS: 0\nTotal notes:  1\nNOTES: 1\nLOADING FILE:  ../../output202408/BEHAVIORAD/extraction-13123.tsv\nLOADING FILE:  ../../output202408/BEHAVIORAD/extraction-13124.tsv\nLOADING FILE:  ../../output202408/BEHAVIORAD/extraction-13125.tsv\nLOADING FILE:  ../../output202408/BEHAVIORAD/extraction-13126.tsv\nLOADING FILE:  ../../output202408/BEHAVIORAD/extraction-13127.tsv\nLOADING FILE:  ../../output202408/BEHAVIORAD/extraction-13128.tsv\nLOADING FILE:  ../../output202408/BEHAVIORAD/extraction-13129.tsv\nLOADING FILE:  ../../output202408/BEHAVIORAD/extraction-13130.tsv\n0 total annotation for target terms\nLength of Sequence Dictionary: 0\nCANDIDATE EVENTS: 0\nTotal notes:  1\nNOTES: 1\nLOADING FILE:  ../../output202408/MISOPHONIA/extraction-13144.tsv\nLOADING FILE:  ../../output202408/MISOPHONIA/extraction-13145.tsv\nLOADING FILE:  ../../output202408/MISOPHONIA/extraction-13146.tsv\nLOADING FILE:  ../../output202408/MISOPHONIA/extraction-13147.tsv\nLOADING FILE:  ../../output202408/MISOPHONIA/extraction-13148.tsv\nLOADING FILE:  ../../output202408/MISOPHONIA/extraction-13149.tsv\nLOADING FILE:  ../../output202408/MISOPHONIA/extraction-13150.tsv\nLOADING FILE:  ../../output202408/MISOPHONIA/extraction-13151.tsv\n0 total annotation for target terms\nLength of Sequence Dictionary: 0\nCANDIDATE EVENTS: 0\nTotal notes:  1\nNOTES: 1\nLOADING FILE:  ../../output202408/IDU/extraction-13157.tsv\nLOADING FILE:  ../../output202408/IDU/extraction-13158.tsv\nLOADING FILE:  ../../output202408/IDU/extraction-13159.tsv\nLOADING FILE:  ../../output202408/IDU/extraction-13160.tsv\nLOADING FILE:  ../../output202408/IDU/extraction-13161.tsv\nLOADING FILE:  ../../output202408/IDU/extraction-13162.tsv\nLOADING FILE:  ../../output202408/IDU/extraction-13163.tsv\nLOADING FILE:  ../../output202408/IDU/extraction-13164.tsv\n0 total annotation for target terms\nLength of Sequence Dictionary: 0\nCANDIDATE EVENTS: 0\nTotal notes:  1\nNOTES: 1\nLOADING FILE:  ../../output202408/JOBINSTABLE/extraction-13209.tsv\nLOADING FILE:  ../../output202408/JOBINSTABLE/extraction-13210.tsv\nLOADING FILE:  ../../output202408/JOBINSTABLE/extraction-13211.tsv\nLOADING FILE:  ../../output202408/JOBINSTABLE/extraction-13212.tsv\nLOADING FILE:  ../../output202408/JOBINSTABLE/extraction-13213.tsv\nLOADING FILE:  ../../output202408/JOBINSTABLE/extraction-13214.tsv\nLOADING FILE:  ../../output202408/JOBINSTABLE/extraction-13215.tsv\nLOADING FILE:  ../../output202408/JOBINSTABLE/extraction-13216.tsv\n0 total annotation for target terms\nLength of Sequence Dictionary: 0\nCANDIDATE EVENTS: 0\nTotal notes:  1\nNOTES: 1\nLOADING FILE:  ../../output202408/JUSTICE/extraction-13240.tsv\nLOADING FILE:  ../../output202408/JUSTICE/extraction-13241.tsv\nLOADING FILE:  ../../output202408/JUSTICE/extraction-13242.tsv\nLOADING FILE:  ../../output202408/JUSTICE/extraction-13243.tsv\nLOADING FILE:  ../../output202408/JUSTICE/extraction-13244.tsv\nLOADING FILE:  ../../output202408/JUSTICE/extraction-13245.tsv\nLOADING FILE:  ../../output202408/JUSTICE/extraction-13246.tsv\nLOADING FILE:  ../../output202408/JUSTICE/extraction-13247.tsv\n0 total annotation for target terms\nLength of Sequence Dictionary: 0\nCANDIDATE EVENTS: 0\nTotal notes:  1\nNOTES: 1\nLOADING FILE:  ../../output202408/LIVESALONE/extraction-13195.tsv\nLOADING FILE:  ../../output202408/LIVESALONE/extraction-13196.tsv\nLOADING FILE:  ../../output202408/LIVESALONE/extraction-13197.tsv\nLOADING FILE:  ../../output202408/LIVESALONE/extraction-13198.tsv\nLOADING FILE:  ../../output202408/LIVESALONE/extraction-13199.tsv\nLOADING FILE:  ../../output202408/LIVESALONE/extraction-13200.tsv\nLOADING FILE:  ../../output202408/LIVESALONE/extraction-13201.tsv\nLOADING FILE:  ../../output202408/LIVESALONE/extraction-13202.tsv\n0 total annotation for target terms\nLength of Sequence Dictionary: 0\nCANDIDATE EVENTS: 0\nTotal notes:  1\nNOTES: 1\nLOADING FILE:  ../../output202408/LONELINESS/extraction-13176.tsv\nLOADING FILE:  ../../output202408/LONELINESS/extraction-13177.tsv\nLOADING FILE:  ../../output202408/LONELINESS/extraction-13178.tsv\nLOADING FILE:  ../../output202408/LONELINESS/extraction-13179.tsv\nLOADING FILE:  ../../output202408/LONELINESS/extraction-13180.tsv\nLOADING FILE:  ../../output202408/LONELINESS/extraction-13181.tsv\nLOADING FILE:  ../../output202408/LONELINESS/extraction-13182.tsv\nLOADING FILE:  ../../output202408/LONELINESS/extraction-13183.tsv\n0 total annotation for target terms\nLength of Sequence Dictionary: 0\nCANDIDATE EVENTS: 0\nTotal notes:  1\nNOTES: 1\n0 total annotation for target terms\nLength of Sequence Dictionary: 0\nCANDIDATE EVENTS: 0\nTotal notes:  1\nNOTES: 1\nLOADING FILE:  ../../output202408/STRAUMA/extraction-13222.tsv\nLOADING FILE:  ../../output202408/STRAUMA/extraction-13223.tsv\nLOADING FILE:  ../../output202408/STRAUMA/extraction-13224.tsv\nLOADING FILE:  ../../output202408/STRAUMA/extraction-13225.tsv\nLOADING FILE:  ../../output202408/STRAUMA/extraction-13226.tsv\nLOADING FILE:  ../../output202408/STRAUMA/extraction-13227.tsv\nLOADING FILE:  ../../output202408/STRAUMA/extraction-13228.tsv\nLOADING FILE:  ../../output202408/STRAUMA/extraction-13229.tsv\n0 total annotation for target terms\nLength of Sequence Dictionary: 0\nCANDIDATE EVENTS: 0\nTotal notes:  1\nNOTES: 1\nLOADING FILE:  ../../output202408/HOUSING/extraction-13255.tsv\nLOADING FILE:  ../../output202408/HOUSING/extraction-13256.tsv\nLOADING FILE:  ../../output202408/HOUSING/extraction-13257.tsv\nLOADING FILE:  ../../output202408/HOUSING/extraction-13258.tsv\nLOADING FILE:  ../../output202408/HOUSING/extraction-13259.tsv\nLOADING FILE:  ../../output202408/HOUSING/extraction-13260.tsv\nLOADING FILE:  ../../output202408/HOUSING/extraction-13261.tsv\nLOADING FILE:  ../../output202408/HOUSING/extraction-13262.tsv\n0 total annotation for target terms\nLength of Sequence Dictionary: 0\nCANDIDATE EVENTS: 0\nTotal notes:  1\nNOTES: 1\nLOADING FILE:  ../../output202408/DETOX/extraction-13268.tsv\nLOADING FILE:  ../../output202408/DETOX/extraction-13269.tsv\nLOADING FILE:  ../../output202408/DETOX/extraction-13270.tsv\nLOADING FILE:  ../../output202408/DETOX/extraction-13271.tsv\nLOADING FILE:  ../../output202408/DETOX/extraction-13272.tsv\nLOADING FILE:  ../../output202408/DETOX/extraction-13273.tsv\nLOADING FILE:  ../../output202408/DETOX/extraction-13274.tsv\nLOADING FILE:  ../../output202408/DETOX/extraction-13275.tsv\n0 total annotation for target terms\nLength of Sequence Dictionary: 0\nCANDIDATE EVENTS: 0\nTotal notes:  1\nNOTES: 1\nLOADING FILE:  ../../output202408/FOODINSECURE/extraction-13299.tsv\nLOADING FILE:  ../../output202408/FOODINSECURE/extraction-13300.tsv\nLOADING FILE:  ../../output202408/FOODINSECURE/extraction-13301.tsv\nLOADING FILE:  ../../output202408/FOODINSECURE/extraction-13302.tsv\nLOADING FILE:  ../../output202408/FOODINSECURE/extraction-13303.tsv\nLOADING FILE:  ../../output202408/FOODINSECURE/extraction-13304.tsv\nLOADING FILE:  ../../output202408/FOODINSECURE/extraction-13305.tsv\nLOADING FILE:  ../../output202408/FOODINSECURE/extraction-13306.tsv\n0 total annotation for target terms\nLength of Sequence Dictionary: 0\nCANDIDATE EVENTS: 0\nTotal notes:  1\nNOTES: 1\nLOADING FILE:  ../../output202408/LETHALMEANS/extraction-13285.tsv\nLOADING FILE:  ../../output202408/LETHALMEANS/extraction-13286.tsv\nLOADING FILE:  ../../output202408/LETHALMEANS/extraction-13287.tsv\nLOADING FILE:  ../../output202408/LETHALMEANS/extraction-13288.tsv\nLOADING FILE:  ../../output202408/LETHALMEANS/extraction-13289.tsv\nLOADING FILE:  ../../output202408/LETHALMEANS/extraction-13290.tsv\nLOADING FILE:  ../../output202408/LETHALMEANS/extraction-13291.tsv\nLOADING FILE:  ../../output202408/LETHALMEANS/extraction-13292.tsv\n0 total annotation for target terms\nLength of Sequence Dictionary: 0\nCANDIDATE EVENTS: 0\nTotal notes:  1\nNOTES: 1\nLOADING FILE:  ../../output202408/ADL/extraction-13314.tsv\nLOADING FILE:  ../../output202408/ADL/extraction-13315.tsv\nLOADING FILE:  ../../output202408/ADL/extraction-13316.tsv\nLOADING FILE:  ../../output202408/ADL/extraction-13317.tsv\nLOADING FILE:  ../../output202408/ADL/extraction-13318.tsv\nLOADING FILE:  ../../output202408/ADL/extraction-13319.tsv\nLOADING FILE:  ../../output202408/ADL/extraction-13320.tsv\nLOADING FILE:  ../../output202408/ADL/extraction-13321.tsv\n0 total annotation for target terms\nLength of Sequence Dictionary: 0\nCANDIDATE EVENTS: 0\nTotal notes:  1\nNOTES: 1\nLOADING FILE:  ../../output202408/DODOUD/extraction-13329.tsv\nLOADING FILE:  ../../output202408/DODOUD/extraction-13330.tsv\nLOADING FILE:  ../../output202408/DODOUD/extraction-13331.tsv\nLOADING FILE:  ../../output202408/DODOUD/extraction-13332.tsv\nLOADING FILE:  ../../output202408/DODOUD/extraction-13333.tsv\nLOADING FILE:  ../../output202408/DODOUD/extraction-13334.tsv\nLOADING FILE:  ../../output202408/DODOUD/extraction-13335.tsv\nLOADING FILE:  ../../output202408/DODOUD/extraction-13336.tsv\n0 total annotation for target terms\nLength of Sequence Dictionary: 0\nCANDIDATE EVENTS: 0\n"
        }
      ],
      "execution_count": 8,
      "metadata": {
        "jupyter": {
          "source_hidden": false,
          "outputs_hidden": false
        },
        "nteract": {
          "transient": {
            "deleting": false
          }
        },
        "gather": {
          "logged": 1724887546980
        }
      }
    },
    {
      "cell_type": "code",
      "source": [
        "# Step 4\n",
        "!bash ../src/step4/step4.sh"
      ],
      "outputs": [
        {
          "output_type": "stream",
          "name": "stdout",
          "text": "Processing: ../../output202408/XYLA/linkedAnts.txt\nWROTE POS NEG NA FILES\nProcessing: ../../output202408/A2AG/linkedAnts.txt\nWROTE POS NEG NA FILES\nProcessing: ../../output202408/PDMP/linkedAnts.txt\nWROTE POS NEG NA FILES\nProcessing: ../../output202408/CAFFINEDO/linkedAnts.txt\nWROTE POS NEG NA FILES\nProcessing: ../../output202408/BTRAITS/linkedAnts.txt\nWROTE POS NEG NA FILES\nProcessing: ../../output202408/BDD/linkedAnts.txt\nWROTE POS NEG NA FILES\nProcessing: ../../output202408/GAMINGDO/linkedAnts.txt\nWROTE POS NEG NA FILES\nProcessing: ../../output202408/GAMBLINGDO/linkedAnts.txt\nWROTE POS NEG NA FILES\nProcessing: ../../output202408/BEHAVIORAD/linkedAnts.txt\nWROTE POS NEG NA FILES\nProcessing: ../../output202408/MISOPHONIA/linkedAnts.txt\nWROTE POS NEG NA FILES\nProcessing: ../../output202408/IDU/linkedAnts.txt\nWROTE POS NEG NA FILES\nProcessing: ../../output202408/JOBINSTABLE/linkedAnts.txt\nWROTE POS NEG NA FILES\nProcessing: ../../output202408/JUSTICE/linkedAnts.txt\nWROTE POS NEG NA FILES\nProcessing: ../../output202408/LIVESALONE/linkedAnts.txt\nWROTE POS NEG NA FILES\nProcessing: ../../output202408/LONELINESS/linkedAnts.txt\nWROTE POS NEG NA FILES\nProcessing: ../../output202408/SOCIALCONNECT/linkedAnts.txt\nWROTE POS NEG NA FILES\nProcessing: ../../output202408/STRAUMA/linkedAnts.txt\nWROTE POS NEG NA FILES\nProcessing: ../../output202408/HOUSING/linkedAnts.txt\nWROTE POS NEG NA FILES\nProcessing: ../../output202408/DETOX/linkedAnts.txt\nWROTE POS NEG NA FILES\nProcessing: ../../output202408/LETHALMEANS/linkedAnts.txt\nWROTE POS NEG NA FILES\nProcessing: ../../output202408/FOODINSECURE/linkedAnts.txt\nWROTE POS NEG NA FILES\nProcessing: ../../output202408/ADL/linkedAnts.txt\nWROTE POS NEG NA FILES\nProcessing: ../../output202408/DODOUD/linkedAnts.txt\nWROTE POS NEG NA FILES\n"
        }
      ],
      "execution_count": 9,
      "metadata": {
        "jupyter": {
          "source_hidden": false,
          "outputs_hidden": false
        },
        "nteract": {
          "transient": {
            "deleting": false
          }
        },
        "gather": {
          "logged": 1724887574932
        }
      }
    },
    {
      "cell_type": "code",
      "source": [
        "# Step 5\n",
        "!bash ../src/step5/step5.sh"
      ],
      "outputs": [
        {
          "output_type": "stream",
          "name": "stdout",
          "text": "Filtering tagged templated text for XYLA\nFiltering tagged templated text for A2AG\nFiltering tagged templated text for PDMP\nFiltering tagged templated text for CAFFINEDO\nFiltering tagged templated text for BTRAITS\nFiltering tagged templated text for BDD\nFiltering tagged templated text for GAMINGDO\nFiltering tagged templated text for GAMBLINGDO\nFiltering tagged templated text for BEHAVIORAD\nFiltering tagged templated text for MISOPHONIA\nFiltering tagged templated text for IDU\nFiltering tagged templated text for JOBINSTABLE\nFiltering tagged templated text for JUSTICE\nFiltering tagged templated text for LIVESALONE\nFiltering tagged templated text for LONELINESS\nFiltering tagged templated text for SOCIALCONNECT\nFiltering tagged templated text for STRAUMA\nFiltering tagged templated text for HOUSING\nFiltering tagged templated text for DETOX\nFiltering tagged templated text for LETHALMEANS\nFiltering tagged templated text for FOODINSECURE\nFiltering tagged templated text for ADL\nFiltering tagged templated text for DODOUD\n"
        }
      ],
      "execution_count": 10,
      "metadata": {
        "jupyter": {
          "source_hidden": false,
          "outputs_hidden": false
        },
        "nteract": {
          "transient": {
            "deleting": false
          }
        },
        "gather": {
          "logged": 1724887597896
        }
      }
    },
    {
      "cell_type": "code",
      "source": [],
      "outputs": [],
      "execution_count": null,
      "metadata": {
        "jupyter": {
          "source_hidden": false,
          "outputs_hidden": false
        },
        "nteract": {
          "transient": {
            "deleting": false
          }
        }
      }
    }
  ],
  "metadata": {
    "kernelspec": {
      "name": "python310-sdkv2",
      "language": "python",
      "display_name": "Python 3.10 - SDK v2"
    },
    "language_info": {
      "name": "python",
      "version": "3.10.11",
      "mimetype": "text/x-python",
      "codemirror_mode": {
        "name": "ipython",
        "version": 3
      },
      "pygments_lexer": "ipython3",
      "nbconvert_exporter": "python",
      "file_extension": ".py"
    },
    "microsoft": {
      "ms_spell_check": {
        "ms_spell_check_language": "en"
      },
      "host": {
        "AzureML": {
          "notebookHasBeenCompleted": true
        }
      }
    },
    "kernel_info": {
      "name": "python310-sdkv2"
    },
    "nteract": {
      "version": "nteract-front-end@1.0.0"
    }
  },
  "nbformat": 4,
  "nbformat_minor": 2
}